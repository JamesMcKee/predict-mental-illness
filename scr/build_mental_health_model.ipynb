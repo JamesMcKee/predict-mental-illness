{
 "cells": [
  {
   "cell_type": "code",
   "execution_count": 1,
   "id": "66a63cf7-abfa-4277-a7e0-9d330163552c",
   "metadata": {},
   "outputs": [],
   "source": [
    "import pandas as pd\n",
    "import matplotlib.pyplot as plt\n",
    "from sklearn.preprocessing import LabelEncoder\n",
    "from sklearn.model_selection import train_test_split, cross_val_score\n",
    "from sklearn.ensemble import RandomForestClassifier\n",
    "from sklearn.metrics import classification_report, accuracy_score, confusion_matrix\n",
    "import gender_guesser.detector as gender\n",
    "from joblib import dump, load"
   ]
  },
  {
   "cell_type": "code",
   "execution_count": 2,
   "id": "761d5fab-97bc-4507-9b52-5f016a7dd18b",
   "metadata": {},
   "outputs": [],
   "source": [
    "df=pd.read_csv('depression_data.csv')"
   ]
  },
  {
   "cell_type": "code",
   "execution_count": 3,
   "id": "af0d4693-eea9-49ff-8821-e6616a1f9bb8",
   "metadata": {},
   "outputs": [],
   "source": [
    "# encode the categorical variables to numeric values so that correlations can be searched for\n",
    "label_encoder = LabelEncoder()\n",
    "\n",
    "# Dictionary to store the original labels for each column\n",
    "original_labels = {}\n",
    "\n",
    "# custom mappings for the non-binary categorical variables, makes sure they're in a sensible (e.g., ascending) order\n",
    "category_mappings = {\n",
    "    'Education Level': {\n",
    "        'High School': 0,\n",
    "        'Associate Degree': 1,\n",
    "        \"Bachelor's Degree\": 2,\n",
    "        \"Master's Degree\": 3,\n",
    "        'PhD': 4\n",
    "    },\n",
    "    'Smoking Status': {\n",
    "        'Non-smoker': 0,\n",
    "        'Former': 1,\n",
    "        'Current': 2\n",
    "    },\n",
    "    'Physical Activity Level': {\n",
    "        'Sedentary': 2,\n",
    "        'Moderate': 1,\n",
    "        'Active': 0\n",
    "    },\n",
    "    'Alcohol Consumption': {\n",
    "        'High': 2,\n",
    "        'Moderate': 1,\n",
    "        'Low': 0\n",
    "    },\n",
    "    'Dietary Habits': {\n",
    "        'Healthy': 0,\n",
    "        'Moderate': 1,\n",
    "        'Unhealthy': 2\n",
    "    },\n",
    "    'Sleep Patterns': {\n",
    "        'Good': 0,\n",
    "        'Fair': 1,\n",
    "        'Poor': 2\n",
    "    }\n",
    "}\n",
    "\n",
    "# copy the dataframe for safety\n",
    "df_encoded = df.copy()\n",
    "df_encoded = df_encoded.drop(columns=['Name'])  # name is not useful so drop it\n",
    "\n",
    "# apply the custom mappings to the relevant categorical column\n",
    "for col, mapping in category_mappings.items():\n",
    "    df_encoded[col] = df_encoded[col].map(mapping)\n",
    "\n",
    "# binary categorical variables are not included in the mappings\n",
    "for col in df_encoded.columns:\n",
    "    if col not in category_mappings:\n",
    "        df_encoded[col] = label_encoder.fit_transform(df_encoded[col].astype(str))"
   ]
  },
  {
   "cell_type": "code",
   "execution_count": 4,
   "id": "ad4cc3bf-38fe-4e56-9ca9-72f735605a16",
   "metadata": {},
   "outputs": [],
   "source": [
    "df_numeric = df_encoded.select_dtypes(include=['number'])"
   ]
  },
  {
   "cell_type": "code",
   "execution_count": 5,
   "id": "0b815a7f-2944-4991-b421-682182bc05fb",
   "metadata": {},
   "outputs": [],
   "source": [
    "# build the model to predict history of mental illness\n",
    "\n",
    "X = df_numeric.drop(columns=['History of Mental Illness'])  # drop the target variable column\n",
    "y = df_numeric['History of Mental Illness']  # target variable\n",
    "\n",
    "# split into training and testing datasets\n",
    "X_train, X_test, y_train, y_test = train_test_split(X, y, test_size=0.2, random_state=23)  \n",
    "\n",
    "# train the random forest classifier\n",
    "model = RandomForestClassifier(random_state=23)\n",
    "model.fit(X_train, y_train)\n",
    "\n",
    "# get the predictions for the test data\n",
    "y_pred = model.predict(X_test)"
   ]
  },
  {
   "cell_type": "code",
   "execution_count": 6,
   "id": "36044934-dbb2-4df9-b84c-ea9de88b848f",
   "metadata": {},
   "outputs": [
    {
     "name": "stdout",
     "output_type": "stream",
     "text": [
      "Accuracy: 0.66\n",
      "Confusion Matrix:\n",
      "[[51868  5594]\n",
      " [22149  3143]]\n",
      "Classification Report:\n",
      "              precision    recall  f1-score   support\n",
      "\n",
      "           0       0.70      0.90      0.79     57462\n",
      "           1       0.36      0.12      0.18     25292\n",
      "\n",
      "    accuracy                           0.66     82754\n",
      "   macro avg       0.53      0.51      0.49     82754\n",
      "weighted avg       0.60      0.66      0.60     82754\n",
      "\n",
      "Cross-Validation Scores: [0.66491046 0.66621553 0.66507963 0.66703322 0.66439887]\n",
      "Mean CV Score: 0.67\n"
     ]
    }
   ],
   "source": [
    "# model performance evaluation\n",
    "\n",
    "print(f\"Accuracy: {accuracy_score(y_test, y_pred):.2f}\")\n",
    "print(\"Confusion Matrix:\")\n",
    "print(confusion_matrix(y_test, y_pred))\n",
    "print(\"Classification Report:\")\n",
    "print(classification_report(y_test, y_pred))\n",
    "\n",
    "# also get the cross validation\n",
    "cv_scores = cross_val_score(model, X, y, cv=5)\n",
    "print(f\"Cross-Validation Scores: {cv_scores}\")\n",
    "print(f\"Mean CV Score: {cv_scores.mean():.2f}\")"
   ]
  },
  {
   "cell_type": "code",
   "execution_count": 7,
   "id": "c53995bc-531c-45c2-a9bf-084ec14ddd7d",
   "metadata": {},
   "outputs": [],
   "source": [
    "# save the model\n",
    "#dump(model, 'mental_health_model.joblib')  # uncomment to save new model"
   ]
  }
 ],
 "metadata": {
  "kernelspec": {
   "display_name": "Python 3 (ipykernel)",
   "language": "python",
   "name": "python3"
  },
  "language_info": {
   "codemirror_mode": {
    "name": "ipython",
    "version": 3
   },
   "file_extension": ".py",
   "mimetype": "text/x-python",
   "name": "python",
   "nbconvert_exporter": "python",
   "pygments_lexer": "ipython3",
   "version": "3.10.16"
  }
 },
 "nbformat": 4,
 "nbformat_minor": 5
}
